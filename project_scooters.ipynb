{
 "cells": [
  {
   "cell_type": "markdown",
   "metadata": {},
   "source": [
    "# Исследование аренды самокатов \n",
    "\n",
    "В нашем распоряжении находятся данные сервиса аренды самокатов GoFast. Данные разбиты на три категории: <br>\n",
    "1. Данные о пользователях: ID, имя, возраст, город, тип подписки.\n",
    "2. Данные о поездках: ID, расстояние в текущей сессии, продолжительность сессии, дата завершения поездки.\n",
    "3. Данные о подписках: тип подписки, стоимость одной минуты по подписке, стоимость начала поездки.\n",
    "<br>Существует два способа пользования сервисом:\n",
    "        1. Без подписки\n",
    "        2. С подпиской Ultra\n",
    "В зависимости он наличия подписки, различается стоимость непосредственно поездки, абонентской платы и старта.\n",
    "\n",
    "**Цель исследования:**\n",
    "- Оценить время, которое тратят пользователи с подпиской и без на поездки.\n",
    "- Оценить среднее расстояниие одной поездки.\n",
    "- Оценить выручку от пользователей с подпиской и без.\n",
    "\n",
    "**Ход исследования:**\n",
    "\n",
    "Данные для исследования я получу из датасетов: `users_go.csv`, `rides_go.csv`, `subscriptions_go.csv`. О качестве данных ничего не известно, это значит, что в первую очередь необходимо будет провести обзор данных.\n",
    "\n",
    "Я проверю данные на наличие различного рода ошибок. Затем, на этапе предобработки данных, я поищу возможность иправить обнаруженные ошибки, которые способны привести к ложному результату. Далее я постараюсь привести данные к состоянию, в котором с ними наиболее удобно работать, и приступлю к проведению анализа данных.\n",
    "\n",
    "Таким образом, моё исследование будет состоять из следующих этапов:\n",
    "- Обзор данных\n",
    "- Предобработка данных\n",
    "- Исследовательский анализ данных\n",
    "- Объединение данных\n",
    "- Подсчёт выручки\n",
    "- Проверка гипотез"
   ]
  },
  {
   "cell_type": "code",
   "execution_count": 287,
   "metadata": {},
   "outputs": [],
   "source": [
    "import math\n",
    "import numpy as np\n",
    "import pandas as pd\n",
    "import scipy.stats as st\n",
    "import matplotlib.pyplot as plt"
   ]
  },
  {
   "cell_type": "markdown",
   "metadata": {},
   "source": [
    "## Шаг 1. Загрузка данных"
   ]
  },
  {
   "cell_type": "code",
   "execution_count": 148,
   "metadata": {},
   "outputs": [
    {
     "name": "stdout",
     "output_type": "stream",
     "text": [
      "Информация о пользователях:\n"
     ]
    },
    {
     "data": {
      "text/html": [
       "<div>\n",
       "<style scoped>\n",
       "    .dataframe tbody tr th:only-of-type {\n",
       "        vertical-align: middle;\n",
       "    }\n",
       "\n",
       "    .dataframe tbody tr th {\n",
       "        vertical-align: top;\n",
       "    }\n",
       "\n",
       "    .dataframe thead th {\n",
       "        text-align: right;\n",
       "    }\n",
       "</style>\n",
       "<table border=\"1\" class=\"dataframe\">\n",
       "  <thead>\n",
       "    <tr style=\"text-align: right;\">\n",
       "      <th></th>\n",
       "      <th>user_id</th>\n",
       "      <th>name</th>\n",
       "      <th>age</th>\n",
       "      <th>city</th>\n",
       "      <th>subscription_type</th>\n",
       "    </tr>\n",
       "  </thead>\n",
       "  <tbody>\n",
       "    <tr>\n",
       "      <th>0</th>\n",
       "      <td>1</td>\n",
       "      <td>Кира</td>\n",
       "      <td>22</td>\n",
       "      <td>Тюмень</td>\n",
       "      <td>ultra</td>\n",
       "    </tr>\n",
       "    <tr>\n",
       "      <th>1</th>\n",
       "      <td>2</td>\n",
       "      <td>Станислав</td>\n",
       "      <td>31</td>\n",
       "      <td>Омск</td>\n",
       "      <td>ultra</td>\n",
       "    </tr>\n",
       "    <tr>\n",
       "      <th>2</th>\n",
       "      <td>3</td>\n",
       "      <td>Алексей</td>\n",
       "      <td>20</td>\n",
       "      <td>Москва</td>\n",
       "      <td>ultra</td>\n",
       "    </tr>\n",
       "    <tr>\n",
       "      <th>3</th>\n",
       "      <td>4</td>\n",
       "      <td>Константин</td>\n",
       "      <td>26</td>\n",
       "      <td>Ростов-на-Дону</td>\n",
       "      <td>ultra</td>\n",
       "    </tr>\n",
       "    <tr>\n",
       "      <th>4</th>\n",
       "      <td>5</td>\n",
       "      <td>Адель</td>\n",
       "      <td>28</td>\n",
       "      <td>Омск</td>\n",
       "      <td>ultra</td>\n",
       "    </tr>\n",
       "  </tbody>\n",
       "</table>\n",
       "</div>"
      ],
      "text/plain": [
       "   user_id        name  age            city subscription_type\n",
       "0        1        Кира   22          Тюмень             ultra\n",
       "1        2   Станислав   31            Омск             ultra\n",
       "2        3     Алексей   20          Москва             ultra\n",
       "3        4  Константин   26  Ростов-на-Дону             ultra\n",
       "4        5       Адель   28            Омск             ultra"
      ]
     },
     "metadata": {},
     "output_type": "display_data"
    },
    {
     "name": "stdout",
     "output_type": "stream",
     "text": [
      "<class 'pandas.core.frame.DataFrame'>\n",
      "RangeIndex: 1565 entries, 0 to 1564\n",
      "Data columns (total 5 columns):\n",
      " #   Column             Non-Null Count  Dtype \n",
      "---  ------             --------------  ----- \n",
      " 0   user_id            1565 non-null   int64 \n",
      " 1   name               1565 non-null   object\n",
      " 2   age                1565 non-null   int64 \n",
      " 3   city               1565 non-null   object\n",
      " 4   subscription_type  1565 non-null   object\n",
      "dtypes: int64(2), object(3)\n",
      "memory usage: 61.3+ KB\n",
      "None\n",
      "Размер таблицы: (1565, 5)\n",
      "Число дубликатов: 31\n"
     ]
    }
   ],
   "source": [
    "data_users = pd.read_csv('data_project_users_4.csv')\n",
    "print('Информация о пользователях:')\n",
    "display(data_users.head())\n",
    "print(data_users.info())\n",
    "print('Размер таблицы:', data_users.shape)\n",
    "print('Число дубликатов:', data_users.duplicated().sum())"
   ]
  },
  {
   "cell_type": "code",
   "execution_count": 149,
   "metadata": {},
   "outputs": [
    {
     "name": "stdout",
     "output_type": "stream",
     "text": [
      "count    1565.000000\n",
      "mean       24.922045\n",
      "std         4.553496\n",
      "min        12.000000\n",
      "25%        22.000000\n",
      "50%        25.000000\n",
      "75%        28.000000\n",
      "max        43.000000\n",
      "Name: age, dtype: float64\n"
     ]
    },
    {
     "data": {
      "image/png": "[encoded data removed]",
      "text/plain": [
       "<Figure size 432x288 with 1 Axes>"
      ]
     },
     "metadata": {
      "needs_background": "light"
     },
     "output_type": "display_data"
    }
   ],
   "source": [
    "#Рассмотрим возраст клиентов сервиса\n",
    "print(data_users['age'].describe())\n",
    "data_users['age'].hist(bins = 30)\n",
    "plt.title('Возраст клиентов сервиса')\n",
    "plt.xlabel('Возраст')\n",
    "plt.ylabel('Число пользователей')\n",
    "plt.show()"
   ]
  },
  {
   "cell_type": "code",
   "execution_count": 150,
   "metadata": {},
   "outputs": [
    {
     "data": {
      "image/png": "[encoded data removed]",
      "text/plain": [
       "<Figure size 432x288 with 1 Axes>"
      ]
     },
     "metadata": {
      "needs_background": "light"
     },
     "output_type": "display_data"
    }
   ],
   "source": [
    "data_users['city'].value_counts().plot(kind = 'bar')\n",
    "plt.title('Число пользователей по городам')\n",
    "plt.xlabel('Города')\n",
    "plt.ylabel('Число пользователей')\n",
    "plt.show()"
   ]
  },
  {
   "cell_type": "code",
   "execution_count": 151,
   "metadata": {},
   "outputs": [
    {
     "data": {
      "image/png": "[encoded data removed]",
      "text/plain": [
       "<Figure size 432x432 with 1 Axes>"
      ]
     },
     "metadata": {},
     "output_type": "display_data"
    }
   ],
   "source": [
    "data_users['subscription_type'].value_counts().plot(kind = 'pie',\n",
    "                                                    title = 'Отношение числа пользователей с подпиской и без', \n",
    "                                                    figsize=(6, 6),\n",
    "                                                    autopct='%1.0f%%', \n",
    "                                                    colors = ['pink', 'steelblue'])\n",
    "plt.show()"
   ]
  },
  {
   "cell_type": "code",
   "execution_count": 152,
   "metadata": {},
   "outputs": [
    {
     "name": "stdout",
     "output_type": "stream",
     "text": [
      "Информация о поездках:\n"
     ]
    },
    {
     "data": {
      "text/html": [
       "<div>\n",
       "<style scoped>\n",
       "    .dataframe tbody tr th:only-of-type {\n",
       "        vertical-align: middle;\n",
       "    }\n",
       "\n",
       "    .dataframe tbody tr th {\n",
       "        vertical-align: top;\n",
       "    }\n",
       "\n",
       "    .dataframe thead th {\n",
       "        text-align: right;\n",
       "    }\n",
       "</style>\n",
       "<table border=\"1\" class=\"dataframe\">\n",
       "  <thead>\n",
       "    <tr style=\"text-align: right;\">\n",
       "      <th></th>\n",
       "      <th>user_id</th>\n",
       "      <th>distance</th>\n",
       "      <th>duration</th>\n",
       "      <th>date</th>\n",
       "    </tr>\n",
       "  </thead>\n",
       "  <tbody>\n",
       "    <tr>\n",
       "      <th>0</th>\n",
       "      <td>1</td>\n",
       "      <td>4409.919140</td>\n",
       "      <td>25.599769</td>\n",
       "      <td>2021-01-01</td>\n",
       "    </tr>\n",
       "    <tr>\n",
       "      <th>1</th>\n",
       "      <td>1</td>\n",
       "      <td>2617.592153</td>\n",
       "      <td>15.816871</td>\n",
       "      <td>2021-01-18</td>\n",
       "    </tr>\n",
       "    <tr>\n",
       "      <th>2</th>\n",
       "      <td>1</td>\n",
       "      <td>754.159807</td>\n",
       "      <td>6.232113</td>\n",
       "      <td>2021-04-20</td>\n",
       "    </tr>\n",
       "    <tr>\n",
       "      <th>3</th>\n",
       "      <td>1</td>\n",
       "      <td>2694.783254</td>\n",
       "      <td>18.511000</td>\n",
       "      <td>2021-08-11</td>\n",
       "    </tr>\n",
       "    <tr>\n",
       "      <th>4</th>\n",
       "      <td>1</td>\n",
       "      <td>4028.687306</td>\n",
       "      <td>26.265803</td>\n",
       "      <td>2021-08-28</td>\n",
       "    </tr>\n",
       "  </tbody>\n",
       "</table>\n",
       "</div>"
      ],
      "text/plain": [
       "   user_id     distance   duration        date\n",
       "0        1  4409.919140  25.599769  2021-01-01\n",
       "1        1  2617.592153  15.816871  2021-01-18\n",
       "2        1   754.159807   6.232113  2021-04-20\n",
       "3        1  2694.783254  18.511000  2021-08-11\n",
       "4        1  4028.687306  26.265803  2021-08-28"
      ]
     },
     "metadata": {},
     "output_type": "display_data"
    },
    {
     "name": "stdout",
     "output_type": "stream",
     "text": [
      "<class 'pandas.core.frame.DataFrame'>\n",
      "RangeIndex: 18068 entries, 0 to 18067\n",
      "Data columns (total 4 columns):\n",
      " #   Column    Non-Null Count  Dtype  \n",
      "---  ------    --------------  -----  \n",
      " 0   user_id   18068 non-null  int64  \n",
      " 1   distance  18068 non-null  float64\n",
      " 2   duration  18068 non-null  float64\n",
      " 3   date      18068 non-null  object \n",
      "dtypes: float64(2), int64(1), object(1)\n",
      "memory usage: 564.8+ KB\n",
      "None\n",
      "Размер таблицы: (18068, 4)\n",
      "Число дубликатов: 0\n"
     ]
    }
   ],
   "source": [
    "data_rides = pd.read_csv('data_project_rides_4.csv')\n",
    "print('Информация о поездках:')\n",
    "display(data_rides.head())\n",
    "print(data_rides.info())\n",
    "print('Размер таблицы:', data_rides.shape)\n",
    "print('Число дубликатов:', data_rides.duplicated().sum())"
   ]
  },
  {
   "cell_type": "code",
   "execution_count": 153,
   "metadata": {},
   "outputs": [
    {
     "name": "stdout",
     "output_type": "stream",
     "text": [
      "count    1534.000000\n",
      "mean       11.778357\n",
      "std         4.157738\n",
      "min         2.000000\n",
      "25%         9.000000\n",
      "50%        12.000000\n",
      "75%        14.000000\n",
      "max        27.000000\n",
      "Name: user_id, dtype: float64\n"
     ]
    },
    {
     "data": {
      "image/png": "[encoded data removed]",
      "text/plain": [
       "<Figure size 432x288 with 1 Axes>"
      ]
     },
     "metadata": {
      "needs_background": "light"
     },
     "output_type": "display_data"
    }
   ],
   "source": [
    "print(data_rides['user_id'].value_counts().describe())\n",
    "data_rides['user_id'].value_counts().hist(bins = 25)\n",
    "plt.title('Среднее число поездок')\n",
    "plt.xlabel('Число поездок')\n",
    "plt.ylabel('Число пользователей')\n",
    "plt.show()"
   ]
  },
  {
   "cell_type": "code",
   "execution_count": 154,
   "metadata": {},
   "outputs": [
    {
     "name": "stdout",
     "output_type": "stream",
     "text": [
      "count    18068.000000\n",
      "mean      3070.659976\n",
      "std       1116.831209\n",
      "min          0.855683\n",
      "25%       2543.226360\n",
      "50%       3133.609994\n",
      "75%       3776.222735\n",
      "max       7211.007745\n",
      "Name: distance, dtype: float64\n"
     ]
    },
    {
     "data": {
      "text/plain": [
       "Text(0, 0.5, 'Число поездок')"
      ]
     },
     "execution_count": 154,
     "metadata": {},
     "output_type": "execute_result"
    },
    {
     "data": {
      "image/png": "[encoded data removed]",
      "text/plain": [
       "<Figure size 432x288 with 1 Axes>"
      ]
     },
     "metadata": {
      "needs_background": "light"
     },
     "output_type": "display_data"
    }
   ],
   "source": [
    "print(data_rides['distance'].describe())\n",
    "data_rides['distance'].hist(bins = 30)\n",
    "plt.title('Среднее расстояние поездки')\n",
    "plt.xlabel('Расстояние')\n",
    "plt.ylabel('Число поездок')"
   ]
  },
  {
   "cell_type": "code",
   "execution_count": 155,
   "metadata": {},
   "outputs": [
    {
     "name": "stdout",
     "output_type": "stream",
     "text": [
      "count    18068.000000\n",
      "mean        17.805011\n",
      "std          6.091051\n",
      "min          0.500000\n",
      "25%         13.597563\n",
      "50%         17.678395\n",
      "75%         21.724800\n",
      "max         40.823963\n",
      "Name: duration, dtype: float64\n"
     ]
    },
    {
     "data": {
      "text/plain": [
       "Text(0, 0.5, 'Число поездок')"
      ]
     },
     "execution_count": 155,
     "metadata": {},
     "output_type": "execute_result"
    },
    {
     "data": {
      "image/png": "[encoded data removed]",
      "text/plain": [
       "<Figure size 432x288 with 1 Axes>"
      ]
     },
     "metadata": {
      "needs_background": "light"
     },
     "output_type": "display_data"
    }
   ],
   "source": [
    "print(data_rides['duration'].describe())\n",
    "data_rides['duration'].hist(bins = 30)\n",
    "plt.title('Среднее время поездки')\n",
    "plt.xlabel('Время')\n",
    "plt.ylabel('Число поездок')"
   ]
  },
  {
   "cell_type": "code",
   "execution_count": 156,
   "metadata": {},
   "outputs": [
    {
     "name": "stdout",
     "output_type": "stream",
     "text": [
      "Информация о подписке:\n"
     ]
    },
    {
     "data": {
      "text/html": [
       "<div>\n",
       "<style scoped>\n",
       "    .dataframe tbody tr th:only-of-type {\n",
       "        vertical-align: middle;\n",
       "    }\n",
       "\n",
       "    .dataframe tbody tr th {\n",
       "        vertical-align: top;\n",
       "    }\n",
       "\n",
       "    .dataframe thead th {\n",
       "        text-align: right;\n",
       "    }\n",
       "</style>\n",
       "<table border=\"1\" class=\"dataframe\">\n",
       "  <thead>\n",
       "    <tr style=\"text-align: right;\">\n",
       "      <th></th>\n",
       "      <th>subscription_type</th>\n",
       "      <th>minute_price</th>\n",
       "      <th>start_ride_price</th>\n",
       "      <th>subscription_fee</th>\n",
       "    </tr>\n",
       "  </thead>\n",
       "  <tbody>\n",
       "    <tr>\n",
       "      <th>0</th>\n",
       "      <td>free</td>\n",
       "      <td>8</td>\n",
       "      <td>50</td>\n",
       "      <td>0</td>\n",
       "    </tr>\n",
       "    <tr>\n",
       "      <th>1</th>\n",
       "      <td>ultra</td>\n",
       "      <td>6</td>\n",
       "      <td>0</td>\n",
       "      <td>199</td>\n",
       "    </tr>\n",
       "  </tbody>\n",
       "</table>\n",
       "</div>"
      ],
      "text/plain": [
       "  subscription_type  minute_price  start_ride_price  subscription_fee\n",
       "0              free             8                50                 0\n",
       "1             ultra             6                 0               199"
      ]
     },
     "metadata": {},
     "output_type": "display_data"
    },
    {
     "name": "stdout",
     "output_type": "stream",
     "text": [
      "<class 'pandas.core.frame.DataFrame'>\n",
      "RangeIndex: 2 entries, 0 to 1\n",
      "Data columns (total 4 columns):\n",
      " #   Column             Non-Null Count  Dtype \n",
      "---  ------             --------------  ----- \n",
      " 0   subscription_type  2 non-null      object\n",
      " 1   minute_price       2 non-null      int64 \n",
      " 2   start_ride_price   2 non-null      int64 \n",
      " 3   subscription_fee   2 non-null      int64 \n",
      "dtypes: int64(3), object(1)\n",
      "memory usage: 192.0+ bytes\n",
      "None\n"
     ]
    }
   ],
   "source": [
    "data_subs = pd.read_csv('data_project_subscriptions_4.csv')\n",
    "print('Информация о подписке:')\n",
    "display(data_subs)\n",
    "print(data_subs.info())\n",
    "# Таблицу о типе подписки нет необходимости проверять на наличие дубликатов, а так же оценивать её размер."
   ]
  },
  {
   "cell_type": "markdown",
   "metadata": {},
   "source": [
    "**Первые выводы по данным:**\n",
    "\n",
    "В целом данные представлены достаточно ясно.\n",
    "\n",
    "_Данные о пользователях:_<br>\n",
    "Данные собраны хорошо:\n",
    "- Пропущенных значений нет\n",
    "- Есть малое число дубликатов.<br><br>\n",
    "\n",
    "- Возраст клиентов представляет из себя распределение Пуассона близкое к нормальному с пиком в 25 лет.\n",
    "- Выборка по городам достаточно равномерная\n",
    "- Выборка по числу пользователей с подпиской и без достаточно равномерная.\n",
    "\n",
    "_Данные о поездках:_<br>\n",
    "Данные собраны хорошо \n",
    "- Пропущенных значений нет.\n",
    "- Необходимо изменить тип столбца `date` c str на datetype\n",
    "- Предстоит оценить число дубликатов самостоятельно.<br><br>\n",
    "\n",
    "- Число поездок пользователем представляет из себя распределение Пуассона близкое к нормальному с пиком в 13 поездок.\n",
    "- По среднему расстоянию, которое проезжает пользователь, можно судить, что существует два вида пользователей: <br> Первый - пользователи, которые проезжают совсем малые расстояния, менее километра (возможно кто-то ну очень сильно устаёт на работе). Второй - сильное большинство пользователей, среднее расстояние для них 3300м.\n",
    "- Время поездки пользователем представляет из себя распределение Пуассона близкое к нормальному с пиком в 18 минут.\n",
    "\n",
    "_Данные о подписке:_<br>\n",
    "- Таблица просто показывает уникальные особенности подписки ultra.<br>\n",
    "- Таблица заполнена полностью, недочетов в ней нет."
   ]
  },
  {
   "cell_type": "markdown",
   "metadata": {},
   "source": [
    "## Шаг 2. Предобработка данных"
   ]
  },
  {
   "cell_type": "markdown",
   "metadata": {},
   "source": [
    "Таблица, содержащая данные о подписке не нуждается в предобработке.\n",
    "\n",
    "Начнем предобработку с датафрейма о пользователях, в нем необходимо было обработать дубликаты:"
   ]
  },
  {
   "cell_type": "code",
   "execution_count": 157,
   "metadata": {},
   "outputs": [
    {
     "data": {
      "text/plain": [
       "1533    False\n",
       "1534     True\n",
       "1535     True\n",
       "1536     True\n",
       "1537     True\n",
       "1538     True\n",
       "1539     True\n",
       "1540     True\n",
       "1541     True\n",
       "1542     True\n",
       "1543     True\n",
       "1544     True\n",
       "1545     True\n",
       "1546     True\n",
       "1547     True\n",
       "1548     True\n",
       "1549     True\n",
       "1550     True\n",
       "1551     True\n",
       "1552     True\n",
       "1553     True\n",
       "1554     True\n",
       "1555     True\n",
       "1556     True\n",
       "1557     True\n",
       "1558     True\n",
       "1559     True\n",
       "1560     True\n",
       "1561     True\n",
       "1562     True\n",
       "1563     True\n",
       "1564     True\n",
       "dtype: bool"
      ]
     },
     "execution_count": 157,
     "metadata": {},
     "output_type": "execute_result"
    }
   ],
   "source": [
    "data_users.duplicated().tail(32) # Немного странно, что все дубликаты расположены в конце списка, вряд-ли случайность."
   ]
  },
  {
   "cell_type": "markdown",
   "metadata": {},
   "source": [
    "Оценим данные о дубликатах в таблицах о пользователях и о поездках:"
   ]
  },
  {
   "cell_type": "code",
   "execution_count": 158,
   "metadata": {},
   "outputs": [
    {
     "name": "stdout",
     "output_type": "stream",
     "text": [
      "Значение дубликатов от общего числа пользователей: 1.981%\n"
     ]
    }
   ],
   "source": [
    "print('Значение дубликатов от общего числа пользователей: {:.3%}'.format(data_users.duplicated().sum() / len(data_users)))"
   ]
  },
  {
   "cell_type": "code",
   "execution_count": 159,
   "metadata": {},
   "outputs": [
    {
     "data": {
      "text/plain": [
       "1534     293\n",
       "1535      16\n",
       "1536     909\n",
       "1537     403\n",
       "1538     908\n",
       "1539      43\n",
       "1540     127\n",
       "1541     659\n",
       "1542     204\n",
       "1543     153\n",
       "1544    1245\n",
       "1545     807\n",
       "1546     924\n",
       "1547     635\n",
       "1548     136\n",
       "1549     108\n",
       "1550     737\n",
       "1551     666\n",
       "1552     297\n",
       "1553     121\n",
       "1554    1198\n",
       "1555      72\n",
       "1556     422\n",
       "1557     611\n",
       "1558    1237\n",
       "1559     209\n",
       "1560     829\n",
       "1561     809\n",
       "1562     307\n",
       "1563      47\n",
       "1564    1045\n",
       "Name: user_id, dtype: int64"
      ]
     },
     "execution_count": 159,
     "metadata": {},
     "output_type": "execute_result"
    }
   ],
   "source": [
    "suspicious_duplicates = data_users[data_users.duplicated()]['user_id']\n",
    "suspicious_duplicates # Интересно, что все дубликаты расположены на последних строках таблицы"
   ]
  },
  {
   "cell_type": "code",
   "execution_count": 160,
   "metadata": {},
   "outputs": [
    {
     "data": {
      "text/html": [
       "<div>\n",
       "<style scoped>\n",
       "    .dataframe tbody tr th:only-of-type {\n",
       "        vertical-align: middle;\n",
       "    }\n",
       "\n",
       "    .dataframe tbody tr th {\n",
       "        vertical-align: top;\n",
       "    }\n",
       "\n",
       "    .dataframe thead th {\n",
       "        text-align: right;\n",
       "    }\n",
       "</style>\n",
       "<table border=\"1\" class=\"dataframe\">\n",
       "  <thead>\n",
       "    <tr style=\"text-align: right;\">\n",
       "      <th></th>\n",
       "      <th>user_id</th>\n",
       "      <th>distance</th>\n",
       "      <th>duration</th>\n",
       "      <th>date</th>\n",
       "    </tr>\n",
       "  </thead>\n",
       "  <tbody>\n",
       "    <tr>\n",
       "      <th>154</th>\n",
       "      <td>16</td>\n",
       "      <td>850.321732</td>\n",
       "      <td>13.125804</td>\n",
       "      <td>2021-02-18</td>\n",
       "    </tr>\n",
       "    <tr>\n",
       "      <th>155</th>\n",
       "      <td>16</td>\n",
       "      <td>2669.699887</td>\n",
       "      <td>9.160846</td>\n",
       "      <td>2021-03-03</td>\n",
       "    </tr>\n",
       "    <tr>\n",
       "      <th>156</th>\n",
       "      <td>16</td>\n",
       "      <td>3073.745017</td>\n",
       "      <td>25.442470</td>\n",
       "      <td>2021-03-06</td>\n",
       "    </tr>\n",
       "    <tr>\n",
       "      <th>157</th>\n",
       "      <td>16</td>\n",
       "      <td>4234.235859</td>\n",
       "      <td>17.114120</td>\n",
       "      <td>2021-04-02</td>\n",
       "    </tr>\n",
       "    <tr>\n",
       "      <th>158</th>\n",
       "      <td>16</td>\n",
       "      <td>2967.367846</td>\n",
       "      <td>18.695544</td>\n",
       "      <td>2021-04-16</td>\n",
       "    </tr>\n",
       "    <tr>\n",
       "      <th>...</th>\n",
       "      <td>...</td>\n",
       "      <td>...</td>\n",
       "      <td>...</td>\n",
       "      <td>...</td>\n",
       "    </tr>\n",
       "    <tr>\n",
       "      <th>14006</th>\n",
       "      <td>1245</td>\n",
       "      <td>3084.297976</td>\n",
       "      <td>30.823444</td>\n",
       "      <td>2021-11-08</td>\n",
       "    </tr>\n",
       "    <tr>\n",
       "      <th>14007</th>\n",
       "      <td>1245</td>\n",
       "      <td>2581.112640</td>\n",
       "      <td>22.324451</td>\n",
       "      <td>2021-11-12</td>\n",
       "    </tr>\n",
       "    <tr>\n",
       "      <th>14008</th>\n",
       "      <td>1245</td>\n",
       "      <td>3401.504555</td>\n",
       "      <td>17.849626</td>\n",
       "      <td>2021-11-27</td>\n",
       "    </tr>\n",
       "    <tr>\n",
       "      <th>14009</th>\n",
       "      <td>1245</td>\n",
       "      <td>2868.387220</td>\n",
       "      <td>18.822874</td>\n",
       "      <td>2021-12-08</td>\n",
       "    </tr>\n",
       "    <tr>\n",
       "      <th>14010</th>\n",
       "      <td>1245</td>\n",
       "      <td>1139.496558</td>\n",
       "      <td>9.734792</td>\n",
       "      <td>2021-12-14</td>\n",
       "    </tr>\n",
       "  </tbody>\n",
       "</table>\n",
       "<p>320 rows × 4 columns</p>\n",
       "</div>"
      ],
      "text/plain": [
       "       user_id     distance   duration        date\n",
       "154         16   850.321732  13.125804  2021-02-18\n",
       "155         16  2669.699887   9.160846  2021-03-03\n",
       "156         16  3073.745017  25.442470  2021-03-06\n",
       "157         16  4234.235859  17.114120  2021-04-02\n",
       "158         16  2967.367846  18.695544  2021-04-16\n",
       "...        ...          ...        ...         ...\n",
       "14006     1245  3084.297976  30.823444  2021-11-08\n",
       "14007     1245  2581.112640  22.324451  2021-11-12\n",
       "14008     1245  3401.504555  17.849626  2021-11-27\n",
       "14009     1245  2868.387220  18.822874  2021-12-08\n",
       "14010     1245  1139.496558   9.734792  2021-12-14\n",
       "\n",
       "[320 rows x 4 columns]"
      ]
     },
     "execution_count": 160,
     "metadata": {},
     "output_type": "execute_result"
    }
   ],
   "source": [
    "suspicious_duplicates_features = data_rides.loc[data_rides['user_id'].isin(suspicious_duplicates)]\n",
    "suspicious_duplicates_features"
   ]
  },
  {
   "cell_type": "code",
   "execution_count": 161,
   "metadata": {},
   "outputs": [
    {
     "data": {
      "image/png": "[encoded data removed]",
      "text/plain": [
       "<Figure size 288x216 with 1 Axes>"
      ]
     },
     "metadata": {
      "needs_background": "light"
     },
     "output_type": "display_data"
    },
    {
     "data": {
      "image/png": "[encoded data removed]",
      "text/plain": [
       "<Figure size 288x216 with 1 Axes>"
      ]
     },
     "metadata": {
      "needs_background": "light"
     },
     "output_type": "display_data"
    },
    {
     "data": {
      "image/png": "[encoded data removed]",
      "text/plain": [
       "<Figure size 288x216 with 1 Axes>"
      ]
     },
     "metadata": {
      "needs_background": "light"
     },
     "output_type": "display_data"
    }
   ],
   "source": [
    "suspicious_duplicates_features['user_id'].value_counts().hist(figsize=(4, 3))\n",
    "plt.show()\n",
    "suspicious_duplicates_features['distance'].hist(figsize=(4, 3))\n",
    "plt.show()\n",
    "suspicious_duplicates_features['duration'].hist(figsize=(4, 3))\n",
    "plt.show()"
   ]
  },
  {
   "cell_type": "code",
   "execution_count": 162,
   "metadata": {},
   "outputs": [
    {
     "name": "stdout",
     "output_type": "stream",
     "text": [
      "Значение данных о дубликатах от общего числа данных о поездках:       1.771%\n"
     ]
    }
   ],
   "source": [
    "print('Значение данных о дубликатах от общего числа данных о поездках: \\\n",
    "      {:.3%}'.format(len(suspicious_duplicates_features) / len(data_rides)))"
   ]
  },
  {
   "cell_type": "markdown",
   "metadata": {},
   "source": [
    "Что бы опредедить, что следует с данными, следует отметить следующее:\n",
    "1. Данные практически не отличаются от данных общей массы пользователей.\n",
    "2. Данных очень мало (менее двух процентов от общего числа)\n",
    "\n",
    "Такой малый процент данных никак не сможет оказать влияния на общую массу, значит можно исключить эти данные. <br>\n",
    "Исключить данные следует из  обеих таблиц, чтобы избежать проблем при единовременной оценке их в будущем."
   ]
  },
  {
   "cell_type": "code",
   "execution_count": 290,
   "metadata": {},
   "outputs": [
    {
     "data": {
      "text/plain": [
       "0"
      ]
     },
     "execution_count": 290,
     "metadata": {},
     "output_type": "execute_result"
    }
   ],
   "source": [
    "data_users = data_users.drop_duplicates().reset_index(drop = True)\n",
    "data_users.duplicated().sum()"
   ]
  },
  {
   "cell_type": "code",
   "execution_count": 164,
   "metadata": {},
   "outputs": [
    {
     "data": {
      "text/plain": [
       "17748"
      ]
     },
     "execution_count": 164,
     "metadata": {},
     "output_type": "execute_result"
    }
   ],
   "source": [
    "data_rides = data_rides[~data_rides.user_id.isin(suspicious_duplicates)]\n",
    "data_rides.reset_index(drop = True)\n",
    "len(data_rides)"
   ]
  },
  {
   "cell_type": "code",
   "execution_count": 165,
   "metadata": {},
   "outputs": [
    {
     "data": {
      "text/plain": [
       "user_id              int64\n",
       "distance           float64\n",
       "duration           float64\n",
       "date        datetime64[ns]\n",
       "dtype: object"
      ]
     },
     "execution_count": 165,
     "metadata": {},
     "output_type": "execute_result"
    }
   ],
   "source": [
    "data_rides['date'] = pd.to_datetime(data_rides['date'], format = '%Y-%m-%d')\n",
    "data_rides.dtypes"
   ]
  },
  {
   "cell_type": "code",
   "execution_count": 167,
   "metadata": {},
   "outputs": [
    {
     "data": {
      "text/plain": [
       "array([2021], dtype=int64)"
      ]
     },
     "execution_count": 167,
     "metadata": {},
     "output_type": "execute_result"
    }
   ],
   "source": [
    "data_rides['date'].dt.year.unique()"
   ]
  },
  {
   "cell_type": "markdown",
   "metadata": {},
   "source": [
    "Данные взяты только за 2021 год, значит повторов за разные года в месяцах быть не может"
   ]
  },
  {
   "cell_type": "code",
   "execution_count": 169,
   "metadata": {},
   "outputs": [
    {
     "data": {
      "text/html": [
       "<div>\n",
       "<style scoped>\n",
       "    .dataframe tbody tr th:only-of-type {\n",
       "        vertical-align: middle;\n",
       "    }\n",
       "\n",
       "    .dataframe tbody tr th {\n",
       "        vertical-align: top;\n",
       "    }\n",
       "\n",
       "    .dataframe thead th {\n",
       "        text-align: right;\n",
       "    }\n",
       "</style>\n",
       "<table border=\"1\" class=\"dataframe\">\n",
       "  <thead>\n",
       "    <tr style=\"text-align: right;\">\n",
       "      <th></th>\n",
       "      <th>user_id</th>\n",
       "      <th>distance</th>\n",
       "      <th>duration</th>\n",
       "      <th>date</th>\n",
       "      <th>month</th>\n",
       "    </tr>\n",
       "  </thead>\n",
       "  <tbody>\n",
       "    <tr>\n",
       "      <th>0</th>\n",
       "      <td>1</td>\n",
       "      <td>4409.919140</td>\n",
       "      <td>25.599769</td>\n",
       "      <td>2021-01-01</td>\n",
       "      <td>1</td>\n",
       "    </tr>\n",
       "    <tr>\n",
       "      <th>1</th>\n",
       "      <td>1</td>\n",
       "      <td>2617.592153</td>\n",
       "      <td>15.816871</td>\n",
       "      <td>2021-01-18</td>\n",
       "      <td>1</td>\n",
       "    </tr>\n",
       "    <tr>\n",
       "      <th>2</th>\n",
       "      <td>1</td>\n",
       "      <td>754.159807</td>\n",
       "      <td>6.232113</td>\n",
       "      <td>2021-04-20</td>\n",
       "      <td>4</td>\n",
       "    </tr>\n",
       "    <tr>\n",
       "      <th>3</th>\n",
       "      <td>1</td>\n",
       "      <td>2694.783254</td>\n",
       "      <td>18.511000</td>\n",
       "      <td>2021-08-11</td>\n",
       "      <td>8</td>\n",
       "    </tr>\n",
       "    <tr>\n",
       "      <th>4</th>\n",
       "      <td>1</td>\n",
       "      <td>4028.687306</td>\n",
       "      <td>26.265803</td>\n",
       "      <td>2021-08-28</td>\n",
       "      <td>8</td>\n",
       "    </tr>\n",
       "  </tbody>\n",
       "</table>\n",
       "</div>"
      ],
      "text/plain": [
       "   user_id     distance   duration       date  month\n",
       "0        1  4409.919140  25.599769 2021-01-01      1\n",
       "1        1  2617.592153  15.816871 2021-01-18      1\n",
       "2        1   754.159807   6.232113 2021-04-20      4\n",
       "3        1  2694.783254  18.511000 2021-08-11      8\n",
       "4        1  4028.687306  26.265803 2021-08-28      8"
      ]
     },
     "execution_count": 169,
     "metadata": {},
     "output_type": "execute_result"
    }
   ],
   "source": [
    "data_rides['month'] = data_rides['date'].dt.month\n",
    "data_rides.head()"
   ]
  },
  {
   "cell_type": "markdown",
   "metadata": {},
   "source": [
    "**Итоги предобработки**\n",
    "\n",
    "- [x] Устранены дубликаты\n",
    "- [x] Исправлен тип столбца `date`\n",
    "- [x] Добавлен столбец с номером месяца на основе столбца `date`"
   ]
  },
  {
   "cell_type": "markdown",
   "metadata": {},
   "source": [
    "## Шаг 3. Исследовательский анализ данных"
   ]
  },
  {
   "cell_type": "markdown",
   "metadata": {},
   "source": [
    "### 3.1 Частота встречаемости городов"
   ]
  },
  {
   "cell_type": "markdown",
   "metadata": {},
   "source": [
    "Ранее уже был рассмотрен столбчатый граф распределения пользователей по городам. Рассмотрим эту величину подробнее, на этот раз применим круговую диаграмму, которая позволит ещё нагляднее сравнить число пользователей по городам между собой."
   ]
  },
  {
   "cell_type": "code",
   "execution_count": 173,
   "metadata": {},
   "outputs": [
    {
     "data": {
      "image/png": "[encoded data removed]",
      "text/plain": [
       "<Figure size 432x432 with 1 Axes>"
      ]
     },
     "metadata": {},
     "output_type": "display_data"
    }
   ],
   "source": [
    "data_users['city'].value_counts().plot.pie(title = 'Частота встречаемости городов',\n",
    "                                           figsize=(6, 6),\n",
    "                                           autopct='%1.0f%%', \n",
    "                                           colors = ['lightcoral', 'slateblue', 'khaki', 'royalblue',\n",
    "                                                     'olive', 'springgreen', 'magenta', 'aqua'])\n",
    "plt.show()"
   ]
  },
  {
   "cell_type": "markdown",
   "metadata": {},
   "source": [
    "### 3.2 Соотношение пользователей с подпиской и без подписки"
   ]
  },
  {
   "cell_type": "markdown",
   "metadata": {},
   "source": [
    "Это соотношение было так же рассмотрено ранее, остановимся на нём подробнее."
   ]
  },
  {
   "cell_type": "code",
   "execution_count": 218,
   "metadata": {},
   "outputs": [
    {
     "data": {
      "image/png": "[encoded data removed]",
      "text/plain": [
       "<Figure size 288x288 with 1 Axes>"
      ]
     },
     "metadata": {},
     "output_type": "display_data"
    },
    {
     "data": {
      "image/png": "[encoded data removed]",
      "text/plain": [
       "<Figure size 432x288 with 1 Axes>"
      ]
     },
     "metadata": {
      "needs_background": "light"
     },
     "output_type": "display_data"
    },
    {
     "name": "stdout",
     "output_type": "stream",
     "text": [
      "Число пользователей с подпиской ultra: 699 \n",
      "Число пользователей без подписки: 835 \n",
      "Разница: 136 или 16.287%\n"
     ]
    }
   ],
   "source": [
    "data_users['subscription_type'].value_counts().plot(kind = 'pie',\n",
    "                                                    title = 'Отношение числа пользователей с подпиской и без', \n",
    "                                                    figsize=(4, 4),\n",
    "                                                    autopct='%1.0f%%', \n",
    "                                                    colors = ['pink', 'steelblue'])\n",
    "plt.show()\n",
    "data_users['subscription_type'].value_counts().plot.bar(title = 'Количество пользователей с подпиской и без',\n",
    "                                                        xlabel = 'Тип подписки',\n",
    "                                                        ylabel = 'Число пользователей',\n",
    "                                                        grid = True)\n",
    "plt.show()\n",
    "sub, no_sub = len(data_users.query('subscription_type == \"ultra\"')), len(data_users.query('subscription_type != \"ultra\"'))\n",
    "print('Число пользователей с подпиской ultra:', sub,\n",
    "      '\\nЧисло пользователей без подписки:', no_sub,\n",
    "      '\\nРазница:', no_sub - sub, 'или {:.3%}'.format(1-sub/no_sub))"
   ]
  },
  {
   "cell_type": "markdown",
   "metadata": {},
   "source": [
    "### Возраст пользователей"
   ]
  },
  {
   "cell_type": "code",
   "execution_count": 219,
   "metadata": {},
   "outputs": [
    {
     "data": {
      "image/png": "[encoded data removed]",
      "text/plain": [
       "<Figure size 432x288 with 1 Axes>"
      ]
     },
     "metadata": {
      "needs_background": "light"
     },
     "output_type": "display_data"
    },
    {
     "name": "stdout",
     "output_type": "stream",
     "text": [
      "count    1534.000000\n",
      "mean       24.903520\n",
      "std         4.572367\n",
      "min        12.000000\n",
      "25%        22.000000\n",
      "50%        25.000000\n",
      "75%        28.000000\n",
      "max        43.000000\n",
      "Name: age, dtype: float64\n"
     ]
    },
    {
     "data": {
      "text/plain": [
       "<AxesSubplot:ylabel='Возраст пользователей'>"
      ]
     },
     "execution_count": 219,
     "metadata": {},
     "output_type": "execute_result"
    },
    {
     "data": {
      "image/png": "[encoded data removed]",
      "text/plain": [
       "<Figure size 432x288 with 1 Axes>"
      ]
     },
     "metadata": {
      "needs_background": "light"
     },
     "output_type": "display_data"
    }
   ],
   "source": [
    "data_users['age'].hist(bins = 30)\n",
    "plt.title('Возраст клиентов сервиса')\n",
    "plt.xlabel('Возраст')\n",
    "plt.ylabel('Число пользователей')\n",
    "plt.show()\n",
    "\n",
    "print(data_users['age'].describe())\n",
    "\n",
    "data_users['age'].plot.box(ylabel = 'Возраст пользователей')"
   ]
  },
  {
   "cell_type": "markdown",
   "metadata": {},
   "source": [
    "### 3.4 Расстояние, которое пользователь преодолел за одну поездку"
   ]
  },
  {
   "cell_type": "code",
   "execution_count": 220,
   "metadata": {},
   "outputs": [
    {
     "name": "stdout",
     "output_type": "stream",
     "text": [
      "count    17748.000000\n",
      "mean      3070.530780\n",
      "std       1118.037657\n",
      "min          0.855683\n",
      "25%       2539.623655\n",
      "50%       3133.347629\n",
      "75%       3778.598610\n",
      "max       7211.007745\n",
      "Name: distance, dtype: float64\n"
     ]
    },
    {
     "data": {
      "text/plain": [
       "Text(0, 0.5, 'Число поездок')"
      ]
     },
     "execution_count": 220,
     "metadata": {},
     "output_type": "execute_result"
    },
    {
     "data": {
      "image/png": "[encoded data removed]",
      "text/plain": [
       "<Figure size 432x288 with 1 Axes>"
      ]
     },
     "metadata": {
      "needs_background": "light"
     },
     "output_type": "display_data"
    }
   ],
   "source": [
    "print(data_rides['distance'].describe())\n",
    "data_rides['distance'].hist(bins = 30)\n",
    "plt.title('Среднее расстояние поездки')\n",
    "plt.xlabel('Расстояние')\n",
    "plt.ylabel('Число поездок')"
   ]
  },
  {
   "cell_type": "markdown",
   "metadata": {},
   "source": [
    "### Продолжительность поездок"
   ]
  },
  {
   "cell_type": "code",
   "execution_count": 221,
   "metadata": {},
   "outputs": [
    {
     "name": "stdout",
     "output_type": "stream",
     "text": [
      "count    17748.000000\n",
      "mean        17.802703\n",
      "std          6.094085\n",
      "min          0.500000\n",
      "25%         13.599482\n",
      "50%         17.673016\n",
      "75%         21.717337\n",
      "max         40.823963\n",
      "Name: duration, dtype: float64\n"
     ]
    },
    {
     "data": {
      "text/plain": [
       "Text(0, 0.5, 'Число поездок')"
      ]
     },
     "execution_count": 221,
     "metadata": {},
     "output_type": "execute_result"
    },
    {
     "data": {
      "image/png": "[encoded data removed]",
      "text/plain": [
       "<Figure size 432x288 with 1 Axes>"
      ]
     },
     "metadata": {
      "needs_background": "light"
     },
     "output_type": "display_data"
    }
   ],
   "source": [
    "print(data_rides['duration'].describe())\n",
    "data_rides['duration'].hist(bins = 30)\n",
    "plt.title('Среднее время поездки')\n",
    "plt.xlabel('Время')\n",
    "plt.ylabel('Число поездок')"
   ]
  },
  {
   "cell_type": "markdown",
   "metadata": {},
   "source": [
    "**Выводы**\n",
    "\n",
    "1. _Частота встречаемости городов._<br> Пользователи по городам распределены очень равномерно.<br>Чаще всего в списке можно встретить Пятигорск, реже всего Москву.\n",
    "2. _Соотношение пользователей с подпиской и без подписки._<br> Число пользователей без подписки совсем немного превосходит количество пользователей с ней (на 16.3%). относительно общего числа пользователей, подпиской владеют 46%.\n",
    "3. _Возраст пользователей._<br> Возраст клиентов варьируется от 12 до 43 лет, чаще всего можно встретить пользователей 25 лет и куда сложнее полльзователя старше 33 и младше 18 лет.\n",
    "4. _Расстояние, которое пользователь преодолел за одну поездку._<br> Расстояние распределено согласно распределению Пуассона близко к нормальному. Самое короткое расстояние чуть больше 0.85км, а самое большое свыше 7км. В среднем пользователь за одну сессию проезжает около 3.3км.\n",
    "5. _Продолжительность поездок_<br>В среднем пользователи тратят на поездку от 12 до 22 минут. Наименьшее время поездки - полминуты (за такое время невозможно куда-либо доехать, наверное пользователь передумал). Самая продолжительная поездка заняла почти 41 минуту."
   ]
  },
  {
   "cell_type": "markdown",
   "metadata": {},
   "source": [
    "## Шаг 4. Объединение данных"
   ]
  },
  {
   "cell_type": "markdown",
   "metadata": {},
   "source": [
    "### 4.1 Объединим данные о пользователях, поездках и подписках в один датафрейм"
   ]
  },
  {
   "cell_type": "code",
   "execution_count": 223,
   "metadata": {},
   "outputs": [
    {
     "data": {
      "text/html": [
       "<div>\n",
       "<style scoped>\n",
       "    .dataframe tbody tr th:only-of-type {\n",
       "        vertical-align: middle;\n",
       "    }\n",
       "\n",
       "    .dataframe tbody tr th {\n",
       "        vertical-align: top;\n",
       "    }\n",
       "\n",
       "    .dataframe thead th {\n",
       "        text-align: right;\n",
       "    }\n",
       "</style>\n",
       "<table border=\"1\" class=\"dataframe\">\n",
       "  <thead>\n",
       "    <tr style=\"text-align: right;\">\n",
       "      <th></th>\n",
       "      <th>user_id</th>\n",
       "      <th>name</th>\n",
       "      <th>age</th>\n",
       "      <th>city</th>\n",
       "      <th>subscription_type</th>\n",
       "      <th>distance</th>\n",
       "      <th>duration</th>\n",
       "      <th>date</th>\n",
       "      <th>month</th>\n",
       "      <th>minute_price</th>\n",
       "      <th>start_ride_price</th>\n",
       "      <th>subscription_fee</th>\n",
       "    </tr>\n",
       "  </thead>\n",
       "  <tbody>\n",
       "    <tr>\n",
       "      <th>0</th>\n",
       "      <td>1</td>\n",
       "      <td>Кира</td>\n",
       "      <td>22</td>\n",
       "      <td>Тюмень</td>\n",
       "      <td>ultra</td>\n",
       "      <td>4409.919140</td>\n",
       "      <td>25.599769</td>\n",
       "      <td>2021-01-01</td>\n",
       "      <td>1</td>\n",
       "      <td>6</td>\n",
       "      <td>0</td>\n",
       "      <td>199</td>\n",
       "    </tr>\n",
       "    <tr>\n",
       "      <th>1</th>\n",
       "      <td>1</td>\n",
       "      <td>Кира</td>\n",
       "      <td>22</td>\n",
       "      <td>Тюмень</td>\n",
       "      <td>ultra</td>\n",
       "      <td>2617.592153</td>\n",
       "      <td>15.816871</td>\n",
       "      <td>2021-01-18</td>\n",
       "      <td>1</td>\n",
       "      <td>6</td>\n",
       "      <td>0</td>\n",
       "      <td>199</td>\n",
       "    </tr>\n",
       "    <tr>\n",
       "      <th>2</th>\n",
       "      <td>1</td>\n",
       "      <td>Кира</td>\n",
       "      <td>22</td>\n",
       "      <td>Тюмень</td>\n",
       "      <td>ultra</td>\n",
       "      <td>754.159807</td>\n",
       "      <td>6.232113</td>\n",
       "      <td>2021-04-20</td>\n",
       "      <td>4</td>\n",
       "      <td>6</td>\n",
       "      <td>0</td>\n",
       "      <td>199</td>\n",
       "    </tr>\n",
       "    <tr>\n",
       "      <th>3</th>\n",
       "      <td>1</td>\n",
       "      <td>Кира</td>\n",
       "      <td>22</td>\n",
       "      <td>Тюмень</td>\n",
       "      <td>ultra</td>\n",
       "      <td>2694.783254</td>\n",
       "      <td>18.511000</td>\n",
       "      <td>2021-08-11</td>\n",
       "      <td>8</td>\n",
       "      <td>6</td>\n",
       "      <td>0</td>\n",
       "      <td>199</td>\n",
       "    </tr>\n",
       "    <tr>\n",
       "      <th>4</th>\n",
       "      <td>1</td>\n",
       "      <td>Кира</td>\n",
       "      <td>22</td>\n",
       "      <td>Тюмень</td>\n",
       "      <td>ultra</td>\n",
       "      <td>4028.687306</td>\n",
       "      <td>26.265803</td>\n",
       "      <td>2021-08-28</td>\n",
       "      <td>8</td>\n",
       "      <td>6</td>\n",
       "      <td>0</td>\n",
       "      <td>199</td>\n",
       "    </tr>\n",
       "  </tbody>\n",
       "</table>\n",
       "</div>"
      ],
      "text/plain": [
       "   user_id  name  age    city subscription_type     distance   duration  \\\n",
       "0        1  Кира   22  Тюмень             ultra  4409.919140  25.599769   \n",
       "1        1  Кира   22  Тюмень             ultra  2617.592153  15.816871   \n",
       "2        1  Кира   22  Тюмень             ultra   754.159807   6.232113   \n",
       "3        1  Кира   22  Тюмень             ultra  2694.783254  18.511000   \n",
       "4        1  Кира   22  Тюмень             ultra  4028.687306  26.265803   \n",
       "\n",
       "        date  month  minute_price  start_ride_price  subscription_fee  \n",
       "0 2021-01-01      1             6                 0               199  \n",
       "1 2021-01-18      1             6                 0               199  \n",
       "2 2021-04-20      4             6                 0               199  \n",
       "3 2021-08-11      8             6                 0               199  \n",
       "4 2021-08-28      8             6                 0               199  "
      ]
     },
     "execution_count": 223,
     "metadata": {},
     "output_type": "execute_result"
    }
   ],
   "source": [
    "data = data_users.merge(data_rides)\n",
    "data = data.merge(data_subs)\n",
    "data.head()"
   ]
  },
  {
   "cell_type": "markdown",
   "metadata": {},
   "source": [
    "### 4.2 Создадим ещё два датафрейма из датафрейма, созданного на предыдущем этапе:\n",
    "- **c данными о пользователях без подписки**\n",
    "- **c данными о пользователях с подпиской**\n"
   ]
  },
  {
   "cell_type": "code",
   "execution_count": 241,
   "metadata": {},
   "outputs": [
    {
     "data": {
      "text/html": [
       "<div>\n",
       "<style scoped>\n",
       "    .dataframe tbody tr th:only-of-type {\n",
       "        vertical-align: middle;\n",
       "    }\n",
       "\n",
       "    .dataframe tbody tr th {\n",
       "        vertical-align: top;\n",
       "    }\n",
       "\n",
       "    .dataframe thead th {\n",
       "        text-align: right;\n",
       "    }\n",
       "</style>\n",
       "<table border=\"1\" class=\"dataframe\">\n",
       "  <thead>\n",
       "    <tr style=\"text-align: right;\">\n",
       "      <th></th>\n",
       "      <th>user_id</th>\n",
       "      <th>name</th>\n",
       "      <th>age</th>\n",
       "      <th>city</th>\n",
       "      <th>subscription_type</th>\n",
       "      <th>distance</th>\n",
       "      <th>duration</th>\n",
       "      <th>date</th>\n",
       "      <th>month</th>\n",
       "      <th>minute_price</th>\n",
       "      <th>start_ride_price</th>\n",
       "      <th>subscription_fee</th>\n",
       "    </tr>\n",
       "  </thead>\n",
       "  <tbody>\n",
       "    <tr>\n",
       "      <th>0</th>\n",
       "      <td>1</td>\n",
       "      <td>Кира</td>\n",
       "      <td>22</td>\n",
       "      <td>Тюмень</td>\n",
       "      <td>ultra</td>\n",
       "      <td>4409.919140</td>\n",
       "      <td>25.599769</td>\n",
       "      <td>2021-01-01</td>\n",
       "      <td>1</td>\n",
       "      <td>6</td>\n",
       "      <td>0</td>\n",
       "      <td>199</td>\n",
       "    </tr>\n",
       "    <tr>\n",
       "      <th>1</th>\n",
       "      <td>1</td>\n",
       "      <td>Кира</td>\n",
       "      <td>22</td>\n",
       "      <td>Тюмень</td>\n",
       "      <td>ultra</td>\n",
       "      <td>2617.592153</td>\n",
       "      <td>15.816871</td>\n",
       "      <td>2021-01-18</td>\n",
       "      <td>1</td>\n",
       "      <td>6</td>\n",
       "      <td>0</td>\n",
       "      <td>199</td>\n",
       "    </tr>\n",
       "    <tr>\n",
       "      <th>2</th>\n",
       "      <td>1</td>\n",
       "      <td>Кира</td>\n",
       "      <td>22</td>\n",
       "      <td>Тюмень</td>\n",
       "      <td>ultra</td>\n",
       "      <td>754.159807</td>\n",
       "      <td>6.232113</td>\n",
       "      <td>2021-04-20</td>\n",
       "      <td>4</td>\n",
       "      <td>6</td>\n",
       "      <td>0</td>\n",
       "      <td>199</td>\n",
       "    </tr>\n",
       "  </tbody>\n",
       "</table>\n",
       "</div>"
      ],
      "text/plain": [
       "   user_id  name  age    city subscription_type     distance   duration  \\\n",
       "0        1  Кира   22  Тюмень             ultra  4409.919140  25.599769   \n",
       "1        1  Кира   22  Тюмень             ultra  2617.592153  15.816871   \n",
       "2        1  Кира   22  Тюмень             ultra   754.159807   6.232113   \n",
       "\n",
       "        date  month  minute_price  start_ride_price  subscription_fee  \n",
       "0 2021-01-01      1             6                 0               199  \n",
       "1 2021-01-18      1             6                 0               199  \n",
       "2 2021-04-20      4             6                 0               199  "
      ]
     },
     "metadata": {},
     "output_type": "display_data"
    },
    {
     "data": {
      "text/html": [
       "<div>\n",
       "<style scoped>\n",
       "    .dataframe tbody tr th:only-of-type {\n",
       "        vertical-align: middle;\n",
       "    }\n",
       "\n",
       "    .dataframe tbody tr th {\n",
       "        vertical-align: top;\n",
       "    }\n",
       "\n",
       "    .dataframe thead th {\n",
       "        text-align: right;\n",
       "    }\n",
       "</style>\n",
       "<table border=\"1\" class=\"dataframe\">\n",
       "  <thead>\n",
       "    <tr style=\"text-align: right;\">\n",
       "      <th></th>\n",
       "      <th>user_id</th>\n",
       "      <th>name</th>\n",
       "      <th>age</th>\n",
       "      <th>city</th>\n",
       "      <th>subscription_type</th>\n",
       "      <th>distance</th>\n",
       "      <th>duration</th>\n",
       "      <th>date</th>\n",
       "      <th>month</th>\n",
       "      <th>minute_price</th>\n",
       "      <th>start_ride_price</th>\n",
       "      <th>subscription_fee</th>\n",
       "    </tr>\n",
       "  </thead>\n",
       "  <tbody>\n",
       "    <tr>\n",
       "      <th>0</th>\n",
       "      <td>700</td>\n",
       "      <td>Айдар</td>\n",
       "      <td>22</td>\n",
       "      <td>Омск</td>\n",
       "      <td>free</td>\n",
       "      <td>2515.690719</td>\n",
       "      <td>14.944286</td>\n",
       "      <td>2021-01-02</td>\n",
       "      <td>1</td>\n",
       "      <td>8</td>\n",
       "      <td>50</td>\n",
       "      <td>0</td>\n",
       "    </tr>\n",
       "    <tr>\n",
       "      <th>1</th>\n",
       "      <td>700</td>\n",
       "      <td>Айдар</td>\n",
       "      <td>22</td>\n",
       "      <td>Омск</td>\n",
       "      <td>free</td>\n",
       "      <td>846.932642</td>\n",
       "      <td>16.234663</td>\n",
       "      <td>2021-02-01</td>\n",
       "      <td>2</td>\n",
       "      <td>8</td>\n",
       "      <td>50</td>\n",
       "      <td>0</td>\n",
       "    </tr>\n",
       "    <tr>\n",
       "      <th>2</th>\n",
       "      <td>700</td>\n",
       "      <td>Айдар</td>\n",
       "      <td>22</td>\n",
       "      <td>Омск</td>\n",
       "      <td>free</td>\n",
       "      <td>4004.434142</td>\n",
       "      <td>20.016628</td>\n",
       "      <td>2021-02-04</td>\n",
       "      <td>2</td>\n",
       "      <td>8</td>\n",
       "      <td>50</td>\n",
       "      <td>0</td>\n",
       "    </tr>\n",
       "  </tbody>\n",
       "</table>\n",
       "</div>"
      ],
      "text/plain": [
       "   user_id   name  age  city subscription_type     distance   duration  \\\n",
       "0      700  Айдар   22  Омск              free  2515.690719  14.944286   \n",
       "1      700  Айдар   22  Омск              free   846.932642  16.234663   \n",
       "2      700  Айдар   22  Омск              free  4004.434142  20.016628   \n",
       "\n",
       "        date  month  minute_price  start_ride_price  subscription_fee  \n",
       "0 2021-01-02      1             8                50                 0  \n",
       "1 2021-02-01      2             8                50                 0  \n",
       "2 2021-02-04      2             8                50                 0  "
      ]
     },
     "execution_count": 241,
     "metadata": {},
     "output_type": "execute_result"
    }
   ],
   "source": [
    "data_ultra = data[data['subscription_type'] == 'ultra']\n",
    "display(data_ultra.head(3))\n",
    "data_free = data[data['subscription_type'] == 'free']\n",
    "data_free = data_free.reset_index(drop = True)\n",
    "data_free.head(3)"
   ]
  },
  {
   "cell_type": "markdown",
   "metadata": {},
   "source": [
    "### 4.3 Визуализируем информацию о расстоянии и времени поездок для пользователей обеих категорий."
   ]
  },
  {
   "cell_type": "code",
   "execution_count": 245,
   "metadata": {},
   "outputs": [
    {
     "data": {
      "image/png": "[encoded data removed]",
      "text/plain": [
       "<Figure size 576x432 with 1 Axes>"
      ]
     },
     "metadata": {
      "needs_background": "light"
     },
     "output_type": "display_data"
    },
    {
     "name": "stdout",
     "output_type": "stream",
     "text": [
      "t-статистика: 4.445183088726353\n",
      "p-значение: 8.83691501558091e-06\n"
     ]
    }
   ],
   "source": [
    "t_statistic, p_value = st.ttest_ind(data_ultra['distance'], data_free['distance'], equal_var=False)\n",
    "\n",
    "plt.hist(data_free['distance'], bins=20, alpha=0.5, label='Платная подписка')\n",
    "plt.hist(data_ultra['distance'], bins=20, alpha=0.5, label='Бесплатная подписка')\n",
    "plt.xlabel('Расстояние')\n",
    "plt.ylabel('Число поездок')\n",
    "plt.title('Сравнение расстояния между платной и бесплатной подпиской')\n",
    "plt.figure(figsize=(8, 6))\n",
    "plt.legend()\n",
    "plt.show()\n",
    "\n",
    "print('t-статистика:', t_statistic)\n",
    "print('p-значение:', p_value)"
   ]
  },
  {
   "cell_type": "code",
   "execution_count": 247,
   "metadata": {},
   "outputs": [
    {
     "data": {
      "image/png": "[encoded data removed]",
      "text/plain": [
       "<Figure size 576x432 with 1 Axes>"
      ]
     },
     "metadata": {
      "needs_background": "light"
     },
     "output_type": "display_data"
    },
    {
     "name": "stdout",
     "output_type": "stream",
     "text": [
      "t-статистика: 12.716526595395441\n",
      "p-значение: 7.530355872661871e-37\n"
     ]
    }
   ],
   "source": [
    "t_statistic, p_value = st.ttest_ind(data_ultra['duration'], data_free['duration'], equal_var=False)\n",
    "\n",
    "plt.hist(data_free['duration'], bins=20, alpha=0.5, label='Платная подписка')\n",
    "plt.hist(data_ultra['duration'], bins=20, alpha=0.5, label='Бесплатная подписка')\n",
    "plt.xlabel('Время')\n",
    "plt.ylabel('Число поездок')\n",
    "plt.title('Сравнение времени между платной и бесплатной подпиской')\n",
    "plt.figure(figsize=(8, 6))\n",
    "plt.legend()\n",
    "plt.show()\n",
    "\n",
    "print('t-статистика:', t_statistic)\n",
    "print('p-значение:', p_value)"
   ]
  },
  {
   "cell_type": "markdown",
   "metadata": {},
   "source": [
    "**Вывод**\n",
    "\n",
    "- [x] Объеденены датафреймы в один `data`\n",
    "- [x] Из `data` созданы ещё два датафрейма: `data_ultra` и `data_free`.\n",
    "- [x] Проаналиларованы данные по отдельности для пользователей с подпиской и без.\n",
    "\n",
    "Сравнение данных о пользователях с подпиской и без дало следующие результаты:\n",
    "\n",
    "1. _Дистанция поездки_\n",
    "- Пользователи с подпиской в среднем проезжают меньшее расстояние, чем пользователи без неё.\n",
    "- t-статистика равна 4.445183088726353\n",
    "- p-значение равно 8.83691501558091e-06\n",
    "- t-статистика показывает различие между средними значениями в столбцах датасетов, p-значение очень мало, значит делаем вывод о наличии статистически значимой разницы в расстоянии между пользователями с платной подпиской и бесплатной.\n",
    "2. _Время поездки_\n",
    "- Пользователи с подпиской в среднем передвигаются меньше, чем пользователи без неё. \n",
    "- t-статистика равна 12.716526595395441\n",
    "- p-значение равно 7.530355872661871e-37\n",
    "- Выводы на основе результатов теста в данном случае аналогичны выводам о дистанции поездки."
   ]
  },
  {
   "cell_type": "markdown",
   "metadata": {},
   "source": [
    "## Шаг 5. Подсчёт выручки"
   ]
  },
  {
   "cell_type": "markdown",
   "metadata": {},
   "source": [
    "### 5.1 Создадим датафрейм с агрегированными данными о поездках на основе датафрейма с объединёнными данными:\n",
    "**Найдём суммарное расстояние, количество поездок и суммарное время для каждого пользователя за каждый месяц.**"
   ]
  },
  {
   "cell_type": "code",
   "execution_count": 261,
   "metadata": {},
   "outputs": [
    {
     "data": {
      "text/html": [
       "<div>\n",
       "<style scoped>\n",
       "    .dataframe tbody tr th:only-of-type {\n",
       "        vertical-align: middle;\n",
       "    }\n",
       "\n",
       "    .dataframe tbody tr th {\n",
       "        vertical-align: top;\n",
       "    }\n",
       "\n",
       "    .dataframe thead th {\n",
       "        text-align: right;\n",
       "    }\n",
       "</style>\n",
       "<table border=\"1\" class=\"dataframe\">\n",
       "  <thead>\n",
       "    <tr style=\"text-align: right;\">\n",
       "      <th></th>\n",
       "      <th></th>\n",
       "      <th>distance</th>\n",
       "      <th>duration</th>\n",
       "      <th>rides_num</th>\n",
       "      <th>subscription_type</th>\n",
       "    </tr>\n",
       "    <tr>\n",
       "      <th>user_id</th>\n",
       "      <th>month</th>\n",
       "      <th></th>\n",
       "      <th></th>\n",
       "      <th></th>\n",
       "      <th></th>\n",
       "    </tr>\n",
       "  </thead>\n",
       "  <tbody>\n",
       "    <tr>\n",
       "      <th rowspan=\"5\" valign=\"top\">1</th>\n",
       "      <th>1</th>\n",
       "      <td>7027.511294</td>\n",
       "      <td>41.416640</td>\n",
       "      <td>2</td>\n",
       "      <td>ultra</td>\n",
       "    </tr>\n",
       "    <tr>\n",
       "      <th>4</th>\n",
       "      <td>754.159807</td>\n",
       "      <td>6.232113</td>\n",
       "      <td>1</td>\n",
       "      <td>ultra</td>\n",
       "    </tr>\n",
       "    <tr>\n",
       "      <th>8</th>\n",
       "      <td>6723.470560</td>\n",
       "      <td>44.776802</td>\n",
       "      <td>2</td>\n",
       "      <td>ultra</td>\n",
       "    </tr>\n",
       "    <tr>\n",
       "      <th>10</th>\n",
       "      <td>5809.911100</td>\n",
       "      <td>31.578017</td>\n",
       "      <td>2</td>\n",
       "      <td>ultra</td>\n",
       "    </tr>\n",
       "    <tr>\n",
       "      <th>11</th>\n",
       "      <td>7003.499363</td>\n",
       "      <td>53.397424</td>\n",
       "      <td>3</td>\n",
       "      <td>ultra</td>\n",
       "    </tr>\n",
       "  </tbody>\n",
       "</table>\n",
       "</div>"
      ],
      "text/plain": [
       "                  distance   duration  rides_num subscription_type\n",
       "user_id month                                                     \n",
       "1       1      7027.511294  41.416640          2             ultra\n",
       "        4       754.159807   6.232113          1             ultra\n",
       "        8      6723.470560  44.776802          2             ultra\n",
       "        10     5809.911100  31.578017          2             ultra\n",
       "        11     7003.499363  53.397424          3             ultra"
      ]
     },
     "execution_count": 261,
     "metadata": {},
     "output_type": "execute_result"
    }
   ],
   "source": [
    "data_agg = data.pivot_table(index = ['user_id', 'month'], values = ['distance', 'name', 'duration', 'subscription_type'],\n",
    "                            aggfunc = {'distance': 'sum',\n",
    "                                       'name' : 'count',\n",
    "                                       'duration' : 'sum',\n",
    "                                       'subscription_type': 'max'})\n",
    "\n",
    "data_agg.rename(columns = {'name': 'rides_num'}, inplace = True)\n",
    "data_agg.head()"
   ]
  },
  {
   "cell_type": "markdown",
   "metadata": {},
   "source": [
    "**В этот же датафрейм добавим столбец с помесячной выручкой, которую принёс каждый пользователь. Для этого обратимся к информации об условиях оплаты для подписчиков и тех, у кого нет подписки.**"
   ]
  },
  {
   "cell_type": "code",
   "execution_count": 266,
   "metadata": {},
   "outputs": [
    {
     "data": {
      "text/html": [
       "<div>\n",
       "<style scoped>\n",
       "    .dataframe tbody tr th:only-of-type {\n",
       "        vertical-align: middle;\n",
       "    }\n",
       "\n",
       "    .dataframe tbody tr th {\n",
       "        vertical-align: top;\n",
       "    }\n",
       "\n",
       "    .dataframe thead th {\n",
       "        text-align: right;\n",
       "    }\n",
       "</style>\n",
       "<table border=\"1\" class=\"dataframe\">\n",
       "  <thead>\n",
       "    <tr style=\"text-align: right;\">\n",
       "      <th></th>\n",
       "      <th></th>\n",
       "      <th>distance</th>\n",
       "      <th>duration</th>\n",
       "      <th>rides_num</th>\n",
       "      <th>subscription_type</th>\n",
       "      <th>revenue_month</th>\n",
       "    </tr>\n",
       "    <tr>\n",
       "      <th>user_id</th>\n",
       "      <th>month</th>\n",
       "      <th></th>\n",
       "      <th></th>\n",
       "      <th></th>\n",
       "      <th></th>\n",
       "      <th></th>\n",
       "    </tr>\n",
       "  </thead>\n",
       "  <tbody>\n",
       "    <tr>\n",
       "      <th rowspan=\"5\" valign=\"top\">1</th>\n",
       "      <th>1</th>\n",
       "      <td>7027.511294</td>\n",
       "      <td>42.0</td>\n",
       "      <td>2</td>\n",
       "      <td>ultra</td>\n",
       "      <td>452.0</td>\n",
       "    </tr>\n",
       "    <tr>\n",
       "      <th>4</th>\n",
       "      <td>754.159807</td>\n",
       "      <td>7.0</td>\n",
       "      <td>1</td>\n",
       "      <td>ultra</td>\n",
       "      <td>242.0</td>\n",
       "    </tr>\n",
       "    <tr>\n",
       "      <th>8</th>\n",
       "      <td>6723.470560</td>\n",
       "      <td>45.0</td>\n",
       "      <td>2</td>\n",
       "      <td>ultra</td>\n",
       "      <td>470.0</td>\n",
       "    </tr>\n",
       "    <tr>\n",
       "      <th>10</th>\n",
       "      <td>5809.911100</td>\n",
       "      <td>32.0</td>\n",
       "      <td>2</td>\n",
       "      <td>ultra</td>\n",
       "      <td>392.0</td>\n",
       "    </tr>\n",
       "    <tr>\n",
       "      <th>11</th>\n",
       "      <td>7003.499363</td>\n",
       "      <td>54.0</td>\n",
       "      <td>3</td>\n",
       "      <td>ultra</td>\n",
       "      <td>524.0</td>\n",
       "    </tr>\n",
       "  </tbody>\n",
       "</table>\n",
       "</div>"
      ],
      "text/plain": [
       "                  distance  duration  rides_num subscription_type  \\\n",
       "user_id month                                                       \n",
       "1       1      7027.511294      42.0          2             ultra   \n",
       "        4       754.159807       7.0          1             ultra   \n",
       "        8      6723.470560      45.0          2             ultra   \n",
       "        10     5809.911100      32.0          2             ultra   \n",
       "        11     7003.499363      54.0          3             ultra   \n",
       "\n",
       "               revenue_month  \n",
       "user_id month                 \n",
       "1       1              452.0  \n",
       "        4              242.0  \n",
       "        8              470.0  \n",
       "        10             392.0  \n",
       "        11             524.0  "
      ]
     },
     "execution_count": 266,
     "metadata": {},
     "output_type": "execute_result"
    }
   ],
   "source": [
    "data_agg['duration'] = np.ceil(data_agg['duration'])\n",
    "\n",
    "\n",
    "def revenue_month(row):\n",
    "    if row['subscription_type'] == 'free':\n",
    "        return row['rides_num']*50 + row['duration']*8\n",
    "    if row['subscription_type'] == 'ultra':\n",
    "        return 200 + row['duration']*6\n",
    "    \n",
    "    \n",
    "data_agg['revenue_month'] = data_agg.apply(revenue_month, axis = 1)\n",
    "data_agg.head()"
   ]
  },
  {
   "cell_type": "markdown",
   "metadata": {},
   "source": [
    "- [x] Создан новый датафрейм `data_agg` на основе датафрейма `data`,  в него вошли суммарное расстояние, количество поездок и суммарное время для каждого пользователя за каждый месяц.\n",
    "- [x] Вычислил помесячную выручку, которую принёс каждый пользователь. Данные об этом внес в соответствующий столбец таблицы `data_agg`."
   ]
  },
  {
   "cell_type": "markdown",
   "metadata": {},
   "source": [
    "## Шаг 6. Проверка гипотез"
   ]
  },
  {
   "cell_type": "markdown",
   "metadata": {},
   "source": [
    "### 6.1 Тратят ли пользователи с подпиской больше времени на поездки?"
   ]
  },
  {
   "cell_type": "markdown",
   "metadata": {},
   "source": [
    "H0: Пользователи с подпиской тратят на поездки столько же времени, сколько пользователи без неё."
   ]
  },
  {
   "cell_type": "code",
   "execution_count": 273,
   "metadata": {},
   "outputs": [
    {
     "name": "stdout",
     "output_type": "stream",
     "text": [
      "p-значение = 1.97533210973539e-34\n",
      "Не отвергаем нулевую гипотезу\n"
     ]
    }
   ],
   "source": [
    "results = st.ttest_ind(data_ultra['duration'], data_free['duration'])\n",
    "\n",
    "print('p-значение =', results.pvalue)\n",
    "\n",
    "if results.pvalue < 0.05:\n",
    "    print('Отвергаем нулевую гипотезу')\n",
    "else:\n",
    "    print('Не отвергаем нулевую гипотезу')"
   ]
  },
  {
   "cell_type": "markdown",
   "metadata": {},
   "source": [
    "### 6.2 Расстояние одной поездки в 3130 метров — оптимальное с точки зрения износа самоката. Можно ли сказать, что расстояние, которое проезжают пользователи с подпиской за одну поездку, не превышает 3130 метров?"
   ]
  },
  {
   "cell_type": "markdown",
   "metadata": {},
   "source": [
    "H0: Среднее расстояние пользователей с подпиской 3130 метров.<br>\n",
    "H1: Среднее расстояние пользователей с подпиской меньше 3130 метров."
   ]
  },
  {
   "cell_type": "code",
   "execution_count": 274,
   "metadata": {},
   "outputs": [
    {
     "name": "stdout",
     "output_type": "stream",
     "text": [
      "p-значение = 0.16700817000741447\n",
      "Не отвергаем нулевую гипотезу\n"
     ]
    }
   ],
   "source": [
    "results = st.ttest_1samp(data_ultra['distance'], 3130, alternative='less')\n",
    "\n",
    "print('p-значение =', results.pvalue)\n",
    "\n",
    "if results.pvalue < 0.05:\n",
    "    print('Отвергаем нулевую гипотезу')\n",
    "else:\n",
    "    print('Не отвергаем нулевую гипотезу')"
   ]
  },
  {
   "cell_type": "markdown",
   "metadata": {},
   "source": [
    "### 6.3 Будет ли помесячная выручка от пользователей с подпиской по месяцам выше, чем выручка от пользователей без подписки."
   ]
  },
  {
   "cell_type": "markdown",
   "metadata": {},
   "source": [
    "H0: Выручка пользователей с подпиской такая же, что у тех, у кого подписки нет.<br>\n",
    "H1: Выручка пользователей с подпиской больше, чем у тех, у кого подписки нет."
   ]
  },
  {
   "cell_type": "code",
   "execution_count": 289,
   "metadata": {},
   "outputs": [
    {
     "name": "stdout",
     "output_type": "stream",
     "text": [
      "p-значение = 1.8641928883387188e-36\n",
      "Отвергаем нулевую гипотезу\n"
     ]
    }
   ],
   "source": [
    "results = st.ttest_ind(data_agg[data_agg['subscription_type'] == 'ultra']['revenue_month'],\n",
    "                       data_agg[data_agg['subscription_type'] == 'free']['revenue_month'])\n",
    "\n",
    "print('p-значение =', results.pvalue)\n",
    "\n",
    "if results.pvalue < 0.05:\n",
    "    print('Отвергаем нулевую гипотезу')\n",
    "else:\n",
    "    print('Не отвергаем нулевую гипотезу')"
   ]
  },
  {
   "cell_type": "markdown",
   "metadata": {},
   "source": [
    "**Вывод**\n",
    "\n",
    "- Пользователи с подпиской тратят больше времени на на поездки, чем пользователи без неё.\n",
    "- Нельзя однозначно утверждать, что пользователи с подпиской не выходят из 3130 метров за 1 поездку.\n",
    "- Выручка пользователей с подпиской действительно больше, чем пользователей без неё."
   ]
  },
  {
   "cell_type": "markdown",
   "metadata": {},
   "source": [
    "## Вывод\n",
    "В ходе работы мы выяснили следующее:\n",
    "\n",
    "- Число пользователей без подписки превосходит количество пользователей с ней на 16.3%. относительно общего числа пользователей, подпиской владеют 46%.\n",
    "- Возраст клиентов варьируется от 12 до 43 лет, чаще всего можно встретить пользователей 25 лет и куда сложнее пользователя старше 33 и младше 18 лет.\n",
    "- Самое короткое расстояние чуть больше 0.85км, а самое большое свыше 7км. В среднем пользователь за одну сессию проезжает около 3.3км.\n",
    "- В среднем пользователи тратят на поездку от 12 до 22 минут. Наименьшее время поездки - полминуты (за такое время невозможно куда-либо доехать, наверное пользователь передумал). Самая продолжительная поездка заняла почти 41 минуту.\n",
    "- Пользователи с подпиской в среднем проезжают расстояние меньшее, чем пользователи без неё.\n",
    "- Пользователи с подпиской тратят больше времени на на поездки, чем пользователи без неё.\n",
    "- Пользователи с подпиской в среднем проезжают расстояние в районе 3130м.\n",
    "- Выручка пользователей с подпиской действительно больше, чем пользователей без неё.\n",
    "\n",
    "Основной фактор из представленных для компании - выручка пользователей. Тесты показывают, что пользователи с подпиской приносят больше выручки, нежели пользователи без неё, следовательно число пользователей с подпиской следует увеличить. <br> следует учитывать, что огромное число пользователей без подписки проезжают более 4 раз на самокате. Это значит, что они расходуют больше средств, чем могли бы. Для увеличения числа подписок можно провести какую-нибудь акцию, позволяющую пользователям без подписки оценить все преимуществапоследней, вероятно, многие пользователи будут готовы обзавестись ей после этого."
   ]
  },
  {
   "cell_type": "markdown",
   "metadata": {},
   "source": [
    "**Заключение о проделанной работе**\n",
    "\n",
    "В ходе работы были предприняты следубщие шаги:\n",
    "- [x] Считаны данные трёх таблиц и проанализированы первичные значения.\n",
    "- [x] Устранены дубликаты\n",
    "- [x] Изменены необходимые типы столбцов\n",
    "- [x] Добавлены новые столбцы\n",
    "- [x] Сделаны первые выводы о:\n",
    "    - Частоте встречаемости городов\n",
    "    - Соотношении пользователей с подпиской и без подписки\n",
    "    - Возрасте пользователей\n",
    "    - Расстоянии, которое пользователь преодолевает за одну поездку\n",
    "    - Продолжительноси поездок\n",
    "- [x] Объеденены датафреймы в один `data`\n",
    "- [x] Из `data` созданы ещё два датафрейма: `data_ultra` и `data_free`.\n",
    "- [x] Проаналиларованы данные по отдельности для пользователей с подпиской и без.\n",
    "- [x] Сделаны выводы о дистанфии поездки и времени.\n",
    "- [x] Создан новый датафрейм `data_agg` на основе датафрейма `data`,  в него вошли суммарное расстояние, количество поездок и суммарное время для каждого пользователя за каждый месяц.\n",
    "- [x] Вычислена помесячная выручка, которую принёс каждый пользователь. Данные об этом внесены в соответствующий столбец таблицы `data_agg`.\n",
    "- [x] Даны ответы на 3 гипотезы"
   ]
  }
 ],
 "metadata": {
  "kernelspec": {
   "display_name": "Python 3",
   "language": "python",
   "name": "python3"
  },
  "language_info": {
   "codemirror_mode": {
    "name": "ipython",
    "version": 3
   },
   "file_extension": ".py",
   "mimetype": "text/x-python",
   "name": "python",
   "nbconvert_exporter": "python",
   "pygments_lexer": "ipython3",
   "version": "3.8.5"
  }
 },
 "nbformat": 4,
 "nbformat_minor": 4
}
